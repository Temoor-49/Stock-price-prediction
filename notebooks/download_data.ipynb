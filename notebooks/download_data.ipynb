{
 "cells": [
  {
   "cell_type": "code",
   "execution_count": 8,
   "id": "b3a9d21b",
   "metadata": {},
   "outputs": [
    {
     "name": "stderr",
     "output_type": "stream",
     "text": [
      "[*********************100%***********************]  1 of 1 completed"
     ]
    },
    {
     "name": "stdout",
     "output_type": "stream",
     "text": [
      "Saved data to ../data/aapl_stock.csv\n"
     ]
    },
    {
     "name": "stderr",
     "output_type": "stream",
     "text": [
      "\n"
     ]
    },
    {
     "data": {
      "text/html": [
       "<div>\n",
       "<style scoped>\n",
       "    .dataframe tbody tr th:only-of-type {\n",
       "        vertical-align: middle;\n",
       "    }\n",
       "\n",
       "    .dataframe tbody tr th {\n",
       "        vertical-align: top;\n",
       "    }\n",
       "\n",
       "    .dataframe thead tr th {\n",
       "        text-align: left;\n",
       "    }\n",
       "\n",
       "    .dataframe thead tr:last-of-type th {\n",
       "        text-align: right;\n",
       "    }\n",
       "</style>\n",
       "<table border=\"1\" class=\"dataframe\">\n",
       "  <thead>\n",
       "    <tr>\n",
       "      <th>Price</th>\n",
       "      <th>Close</th>\n",
       "      <th>High</th>\n",
       "      <th>Low</th>\n",
       "      <th>Open</th>\n",
       "      <th>Volume</th>\n",
       "    </tr>\n",
       "    <tr>\n",
       "      <th>Ticker</th>\n",
       "      <th>AAPL</th>\n",
       "      <th>AAPL</th>\n",
       "      <th>AAPL</th>\n",
       "      <th>AAPL</th>\n",
       "      <th>AAPL</th>\n",
       "    </tr>\n",
       "    <tr>\n",
       "      <th>Date</th>\n",
       "      <th></th>\n",
       "      <th></th>\n",
       "      <th></th>\n",
       "      <th></th>\n",
       "      <th></th>\n",
       "    </tr>\n",
       "  </thead>\n",
       "  <tbody>\n",
       "    <tr>\n",
       "      <th>2018-01-02</th>\n",
       "      <td>40.381001</td>\n",
       "      <td>40.390379</td>\n",
       "      <td>39.677744</td>\n",
       "      <td>39.888723</td>\n",
       "      <td>102223600</td>\n",
       "    </tr>\n",
       "    <tr>\n",
       "      <th>2018-01-03</th>\n",
       "      <td>40.373962</td>\n",
       "      <td>40.917816</td>\n",
       "      <td>40.310672</td>\n",
       "      <td>40.444289</td>\n",
       "      <td>118071600</td>\n",
       "    </tr>\n",
       "    <tr>\n",
       "      <th>2018-01-04</th>\n",
       "      <td>40.561504</td>\n",
       "      <td>40.664649</td>\n",
       "      <td>40.338807</td>\n",
       "      <td>40.446638</td>\n",
       "      <td>89738400</td>\n",
       "    </tr>\n",
       "    <tr>\n",
       "      <th>2018-01-05</th>\n",
       "      <td>41.023300</td>\n",
       "      <td>41.110034</td>\n",
       "      <td>40.566184</td>\n",
       "      <td>40.657607</td>\n",
       "      <td>94640000</td>\n",
       "    </tr>\n",
       "    <tr>\n",
       "      <th>2018-01-08</th>\n",
       "      <td>40.870926</td>\n",
       "      <td>41.166292</td>\n",
       "      <td>40.772467</td>\n",
       "      <td>40.870926</td>\n",
       "      <td>82271200</td>\n",
       "    </tr>\n",
       "  </tbody>\n",
       "</table>\n",
       "</div>"
      ],
      "text/plain": [
       "Price           Close       High        Low       Open     Volume\n",
       "Ticker           AAPL       AAPL       AAPL       AAPL       AAPL\n",
       "Date                                                             \n",
       "2018-01-02  40.381001  40.390379  39.677744  39.888723  102223600\n",
       "2018-01-03  40.373962  40.917816  40.310672  40.444289  118071600\n",
       "2018-01-04  40.561504  40.664649  40.338807  40.446638   89738400\n",
       "2018-01-05  41.023300  41.110034  40.566184  40.657607   94640000\n",
       "2018-01-08  40.870926  41.166292  40.772467  40.870926   82271200"
      ]
     },
     "execution_count": 8,
     "metadata": {},
     "output_type": "execute_result"
    }
   ],
   "source": [
    "import yfinance as yf\n",
    "import pandas as pd\n",
    "\n",
    "# Choose stock (Apple in this case)\n",
    "ticker = \"AAPL\"\n",
    "\n",
    "# Download 5 years of daily stock data\n",
    "df = yf.download(ticker, start=\"2018-01-01\", end=\"2023-12-31\")\n",
    "\n",
    "# Save to data folder\n",
    "df.to_csv(\"../data/aapl_stock.csv\")\n",
    "\n",
    "print(\"Saved data to ../data/aapl_stock.csv\")\n",
    "df.head()\n"
   ]
  },
  {
   "cell_type": "code",
   "execution_count": 3,
   "id": "8ccc33fc",
   "metadata": {},
   "outputs": [
    {
     "name": "stdout",
     "output_type": "stream",
     "text": [
      "        Price              Close                High                 Low  \\\n",
      "0      Ticker               AAPL                AAPL                AAPL   \n",
      "1        Date                NaN                 NaN                 NaN   \n",
      "2  2018-01-02  40.38100051879883   40.39037927837602   39.67774378235682   \n",
      "3  2018-01-03  40.37396240234375   40.91781591685785  40.310671880614436   \n",
      "4  2018-01-04  40.56150436401367  40.664649258385666   40.33880711131893   \n",
      "\n",
      "                 Open     Volume  \n",
      "0                AAPL       AAPL  \n",
      "1                 NaN        NaN  \n",
      "2   39.88872294945866  102223600  \n",
      "3   40.44428878121343  118071600  \n",
      "4  40.446637808563274   89738400  \n",
      "Index(['Price', 'Close', 'High', 'Low', 'Open', 'Volume'], dtype='object')\n"
     ]
    }
   ],
   "source": [
    "import pandas as pd\n",
    "\n",
    "df = pd.read_csv(\"../data/aapl_stock.csv\")\n",
    "print(df.head())\n",
    "print(df.columns)\n"
   ]
  }
 ],
 "metadata": {
  "kernelspec": {
   "display_name": "ds101",
   "language": "python",
   "name": "python3"
  },
  "language_info": {
   "codemirror_mode": {
    "name": "ipython",
    "version": 3
   },
   "file_extension": ".py",
   "mimetype": "text/x-python",
   "name": "python",
   "nbconvert_exporter": "python",
   "pygments_lexer": "ipython3",
   "version": "3.11.13"
  }
 },
 "nbformat": 4,
 "nbformat_minor": 5
}
